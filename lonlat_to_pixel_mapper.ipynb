{
 "cells": [
  {
   "cell_type": "code",
   "execution_count": 1,
   "metadata": {},
   "outputs": [],
   "source": [
    "import json\n",
    "import cv2\n",
    "import math"
   ]
  },
  {
   "cell_type": "code",
   "execution_count": 2,
   "metadata": {},
   "outputs": [],
   "source": [
    "# frames for josn creation for accurate convention\n",
    "\n",
    "frm_cnt = 270\n",
    "\n",
    "frame_lists = []\n",
    "\n",
    "for i in range(0, 1):\n",
    "    objects = []\n",
    "    frame_lists.append({\"objects\": objects})\n",
    "    \n",
    "edge_lists = []\n",
    "\n",
    "for i in range(0, frm_cnt):\n",
    "    edges = []\n",
    "    edge_lists.append({\"edges\": edges})"
   ]
  },
  {
   "cell_type": "code",
   "execution_count": 3,
   "metadata": {},
   "outputs": [],
   "source": [
    "def click_event(event, x, y, flags, params):\n",
    "  \n",
    "    # checking for left mouse clicks\n",
    "    if event == cv2.EVENT_LBUTTONDOWN:\n",
    "  \n",
    "        # displaying the coordinates\n",
    "        # on the Shell\n",
    "        print(x, ' ', y)\n",
    "  \n",
    "        # displaying the coordinates\n",
    "        # on the image window\n",
    "        font = cv2.FONT_HERSHEY_SIMPLEX\n",
    "        cv2.putText(image, str(x) + ',' +\n",
    "                    str(y), (x,y), font,\n",
    "                    1, (255, 0, 0), 2)\n",
    "        cv2.imshow('image', image)\n",
    "  \n",
    "    # checking for right mouse clicks     \n",
    "    if event==cv2.EVENT_RBUTTONDOWN:\n",
    "  \n",
    "        # displaying the coordinates\n",
    "        # on the Shell\n",
    "        print(x, ' ', y)\n",
    "  \n",
    "        # displaying the coordinates\n",
    "        # on the image window\n",
    "        font = cv2.FONT_HERSHEY_SIMPLEX\n",
    "        b = image[y, x, 0]\n",
    "        g = image[y, x, 1]\n",
    "        r = image[y, x, 2]\n",
    "        cv2.putText(image, str(b) + ',' +\n",
    "                    str(g) + ',' + str(r),\n",
    "                    (x,y), font, 1,\n",
    "                    (255, 255, 0), 2)\n",
    "        cv2.imshow('image', image)"
   ]
  },
  {
   "cell_type": "code",
   "execution_count": 4,
   "metadata": {},
   "outputs": [],
   "source": [
    "image = cv2.imread('out.png',cv2.IMREAD_UNCHANGED)"
   ]
  },
  {
   "cell_type": "code",
   "execution_count": 5,
   "metadata": {},
   "outputs": [],
   "source": [
    "busy_airports = {}\n",
    "busy_airports = set(busy_airports)\n",
    "\n",
    "with open('all_routes.txt') as f:\n",
    "    lines = f.readlines()\n",
    "    \n",
    "    for each_line in lines:\n",
    "        \n",
    "        each_line = each_line.replace(\"\\n\", \"\")\n",
    "        temp = each_line.split(\" \")\n",
    "        start, end, time_diff = temp[0], temp[1], temp[2] \n",
    "        busy_airports.add(start)\n",
    "        busy_airports.add(end)"
   ]
  },
  {
   "cell_type": "code",
   "execution_count": 6,
   "metadata": {},
   "outputs": [
    {
     "data": {
      "text/plain": [
       "{'ARN',\n",
       " 'ATL',\n",
       " 'BOM',\n",
       " 'CAI',\n",
       " 'CDG',\n",
       " 'CGK',\n",
       " 'CPT',\n",
       " 'CUN',\n",
       " 'DEL',\n",
       " 'DEN',\n",
       " 'DFW',\n",
       " 'DXB',\n",
       " 'EZE',\n",
       " 'FCO',\n",
       " 'FRA',\n",
       " 'GRU',\n",
       " 'HKG',\n",
       " 'HNL',\n",
       " 'IST',\n",
       " 'JFK',\n",
       " 'LAS',\n",
       " 'LAX',\n",
       " 'LHR',\n",
       " 'MAD',\n",
       " 'MCO',\n",
       " 'MEX',\n",
       " 'MIA',\n",
       " 'NRT',\n",
       " 'ORD',\n",
       " 'PEK',\n",
       " 'PVG',\n",
       " 'SEA',\n",
       " 'SFO',\n",
       " 'SIN',\n",
       " 'SVO',\n",
       " 'SYD',\n",
       " 'YYC',\n",
       " 'YYZ'}"
      ]
     },
     "execution_count": 6,
     "metadata": {},
     "output_type": "execute_result"
    }
   ],
   "source": [
    "busy_airports"
   ]
  },
  {
   "cell_type": "code",
   "execution_count": 7,
   "metadata": {},
   "outputs": [
    {
     "name": "stdout",
     "output_type": "stream",
     "text": [
      "203 220 -73.79168731973864 40.647672921902085 id 1 name JFK\n",
      "178 269 -86.87973640933609 21.04449063988976 id 2 name CUN\n",
      "191 257 -80.26496565324224 25.793010380998638 id 3 name MIA\n",
      "126 193 -114.01090844101515 51.12673612021307 id 4 name YYC\n",
      "614 232 140.39246737624134 35.76241570133719 id 5 name NRT\n",
      "255 382 -46.48364975982179 -23.42005154321623 id 6 name GRU\n",
      "578 244 121.78621380562439 31.150633439684313 id 7 name PVG\n",
      "124 231 -115.14284782173708 36.08561338005141 id 8 name LAS\n",
      "189 250 -81.2907857170215 28.42831453051457 id 9 name MCO\n",
      "563 266 113.93338435186595 22.312419994845527 id 10 name HKG\n",
      "544 319 103.99354166490136 1.3542935982235846 id 11 name SIN\n",
      "344 192 -0.4632393123453369 51.47479515882837 id 12 name LHR\n",
      "183 237 -84.4389921196544 33.63676942979369 id 13 name ATL\n",
      "568 221 116.58636727543299 40.07586164417694 id 14 name PEK\n",
      "484 274 72.86520869504798 19.092873887653894 id 15 name BOM\n",
      "405 246 31.407928876106837 30.106456323838387 id 16 name CAI\n",
      "380 409 18.60286463168987 -33.973698821230485 id 17 name CPT\n",
      "492 250 77.07460826710769 28.565052009970586 id 18 name DEL\n",
      "144 222 -104.67240855005912 39.8521094050671 id 19 name DEN\n",
      "159 239 -97.031817730186 32.903359312711416 id 20 name DFW\n",
      "451 259 55.35552139950542 25.258491143125127 id 21 name DXB\n",
      "232 411 -58.545878785639985 -34.818985057867664 id 22 name EZE\n",
      "400 219 28.82569216383493 40.98330128056685 id 23 name IST\n",
      "118 236 -118.39717354131267 33.947536428557356 id 24 name LAX\n",
      "155 273 -99.08345785774453 19.440932926269213 id 25 name MEX\n",
      "42 268 -157.90893254963794 21.330396278752332 id 26 name HNL\n",
      "176 216 -87.90555647311535 41.9777556766106 id 27 name ORD\n",
      "110 202 -122.28821516254433 47.447254854851195 id 28 name SEA\n",
      "110 227 -122.39433447948701 37.61458701396866 id 29 name SFO\n",
      "416 181 37.42135683619216 55.96227062097577 id 30 name SVO\n",
      "192 212 -79.62824975158615 43.68075882983551 id 31 name YYZ\n",
      "634 408 151.18126459874733 -33.93640678137884 id 32 name SYD\n",
      "349 198 2.5434746676973248 49.013520528620106 id 33 name CDG\n",
      "361 196 8.556902627782648 50.04526696451549 id 34 name FRA\n",
      "368 217 12.23570561512895 41.79129547735239 id 35 name FCO\n",
      "338 220 -3.57607260933068 40.47364340259443 id 36 name MAD\n",
      "379 171 17.93077562438623 59.654182566288185 id 37 name ARN\n",
      "549 338 106.64652458846845 -6.1289757320056 id 38 name CGK\n"
     ]
    }
   ],
   "source": [
    "MAP_WIDTH = 690\n",
    "MAP_HEIGHT = 456 #1113\n",
    "\n",
    "offset_x = 0\n",
    "offset_y = 95\n",
    "\n",
    "airport_dict = {}\n",
    "\n",
    "airport_iter = 0\n",
    "\n",
    "with open('airplane_cords.txt') as f:\n",
    "    lines = f.readlines()\n",
    "    \n",
    "    for each_line in lines:\n",
    "        #airport_iter += 1\n",
    "        \n",
    "        each_line = each_line.replace(\"\\n\", \"\")\n",
    "        temp = each_line.split(\" \")\n",
    "        id, temp = temp[0], temp[1]\n",
    "        \n",
    "        #if id != \"REK\": continue\n",
    "        if id not in busy_airports:\n",
    "            #print(\"here\",id)\n",
    "            continue\n",
    "            \n",
    "        #print(\"passed\",id)\n",
    "        airport_iter += 1\n",
    "        airport_dict[id] = airport_iter\n",
    "        \n",
    "        temp = temp.split(\",\")        \n",
    "        # The order convension of coordinates follow the longitude-latitude-elevation order.\n",
    "        # https://stackoverflow.com/questions/1369512/converting-longitude-latitude-to-x-y-on-a-map-with-calibration-points\n",
    "        lon, lat = float(temp[0]), float(temp[1])\n",
    "        x =  int((MAP_WIDTH/360.0) * (180 + lon))+offset_x\n",
    "        y =  int((MAP_HEIGHT/180.0) * (90 - lat))+offset_y\n",
    "                \n",
    "        all_pt = []\n",
    "        temp_pt = {\"x\": int(x), \"y\": int(y)}\n",
    "        all_pt.append(temp_pt)\n",
    "        frame_lists[0][\"objects\"].append({\"id\": airport_iter, \"name\": id, \"bounds\": all_pt})\n",
    "        \n",
    "        cv2.putText(image, id, (x,y), cv2.FONT_HERSHEY_SIMPLEX, 1, (209, 80, 0, 255), 3)         \n",
    "        print(x, y, temp[0], temp[1],\"id\", airport_iter, \"name\", id)"
   ]
  },
  {
   "cell_type": "code",
   "execution_count": 8,
   "metadata": {},
   "outputs": [],
   "source": [
    "with open('all_routes.txt') as f:\n",
    "    lines = f.readlines()\n",
    "    \n",
    "    for each_line in lines:\n",
    "        \n",
    "        each_line = each_line.replace(\"\\n\", \"\")\n",
    "        temp = each_line.split(\" \")\n",
    "        start, end, time_diff = temp[0], temp[1], temp[2] \n",
    "        \n",
    "        frame_no = math.floor(float(time_diff)*10);        \n",
    "        edge_lists[frame_no][\"edges\"].append({\"edge_start\":airport_dict[start], \"edge_end\":airport_dict[end], \"weight\":1})\n",
    "        "
   ]
  },
  {
   "cell_type": "code",
   "execution_count": 9,
   "metadata": {
    "scrolled": true
   },
   "outputs": [],
   "source": [
    "cv2.imshow('image',image)\n",
    "\n",
    "cv2.setMouseCallback('image', click_event)\n",
    " \n",
    "cv2.waitKey(0) # waits until a key is pressed\n",
    "cv2.destroyAllWindows() # destroys the window showing image"
   ]
  },
  {
   "cell_type": "code",
   "execution_count": 10,
   "metadata": {},
   "outputs": [],
   "source": [
    "out_file = open(\"airplanes.json\", \"w\")   \n",
    "json.dump({\"all_frame\": frame_lists, \"width\": MAP_WIDTH, \"height\": MAP_HEIGHT, \"node_type\": \"static\"}, out_file)  \n",
    "out_file.close() \n",
    "\n",
    "out_file = open(\"airplanes_routes.json\", \"w\")   \n",
    "json.dump({\"edge_list\": edge_lists}, out_file)  \n",
    "out_file.close() "
   ]
  },
  {
   "cell_type": "code",
   "execution_count": 11,
   "metadata": {},
   "outputs": [
    {
     "name": "stdout",
     "output_type": "stream",
     "text": [
      "{'JFK': 1, 'CUN': 2, 'MIA': 3, 'YYC': 4, 'NRT': 5, 'GRU': 6, 'PVG': 7, 'LAS': 8, 'MCO': 9, 'HKG': 10, 'SIN': 11, 'LHR': 12, 'ATL': 13, 'PEK': 14, 'BOM': 15, 'CAI': 16, 'CPT': 17, 'DEL': 18, 'DEN': 19, 'DFW': 20, 'DXB': 21, 'EZE': 22, 'IST': 23, 'LAX': 24, 'MEX': 25, 'HNL': 26, 'ORD': 27, 'SEA': 28, 'SFO': 29, 'SVO': 30, 'YYZ': 31, 'SYD': 32, 'CDG': 33, 'FRA': 34, 'FCO': 35, 'MAD': 36, 'ARN': 37, 'CGK': 38}\n"
     ]
    }
   ],
   "source": [
    "print(airport_dict)"
   ]
  },
  {
   "cell_type": "code",
   "execution_count": null,
   "metadata": {},
   "outputs": [],
   "source": []
  }
 ],
 "metadata": {
  "kernelspec": {
   "display_name": "Python 3",
   "language": "python",
   "name": "python3"
  },
  "language_info": {
   "codemirror_mode": {
    "name": "ipython",
    "version": 3
   },
   "file_extension": ".py",
   "mimetype": "text/x-python",
   "name": "python",
   "nbconvert_exporter": "python",
   "pygments_lexer": "ipython3",
   "version": "3.6.4"
  }
 },
 "nbformat": 4,
 "nbformat_minor": 2
}
