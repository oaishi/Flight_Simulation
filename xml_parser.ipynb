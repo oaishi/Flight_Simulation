{
 "cells": [
  {
   "cell_type": "code",
   "execution_count": 1,
   "metadata": {},
   "outputs": [],
   "source": [
    "import bs4"
   ]
  },
  {
   "cell_type": "code",
   "execution_count": 2,
   "metadata": {},
   "outputs": [],
   "source": [
    "import json"
   ]
  },
  {
   "cell_type": "code",
   "execution_count": 3,
   "metadata": {},
   "outputs": [],
   "source": [
    "handler = open('trimmed_1438.xml').read()\n",
    "soup = bs4.BeautifulSoup(handler,'lxml')"
   ]
  },
  {
   "cell_type": "code",
   "execution_count": 4,
   "metadata": {},
   "outputs": [],
   "source": [
    "frm_cnt = 1438\n",
    "\n",
    "frame_lists = []\n",
    "\n",
    "for i in range(0, frm_cnt):\n",
    "    objects = []\n",
    "    frame_lists.append({\"objects\": objects})"
   ]
  },
  {
   "cell_type": "code",
   "execution_count": 5,
   "metadata": {},
   "outputs": [],
   "source": [
    "# https://stackoverflow.com/a/4093940\n",
    "for iter_obj, each_object in enumerate(soup.findAll('object')):  \n",
    "    \n",
    "    \n",
    "    for each_frame in each_object.findAll('polygon'):\n",
    "        frame_no = int(each_frame.find('t').text)\n",
    "        \n",
    "        all_pt = []\n",
    "        for each_pt, pt in enumerate(each_frame.findAll('pt')):\n",
    "            x, y = pt.find('x').text, pt.find('y').text\n",
    "            temp_pt = {\"x\": int(x), \"y\": int(y)}\n",
    "            all_pt.append(temp_pt)\n",
    "        frame_lists[frame_no][\"objects\"].append({\"id\": iter_obj, \"bounds\": all_pt})\n"
   ]
  },
  {
   "cell_type": "code",
   "execution_count": 6,
   "metadata": {},
   "outputs": [
    {
     "name": "stdout",
     "output_type": "stream",
     "text": [
      "703 148\n"
     ]
    }
   ],
   "source": [
    "print(x,y)"
   ]
  },
  {
   "cell_type": "code",
   "execution_count": 7,
   "metadata": {},
   "outputs": [],
   "source": [
    "# the json file where the output must be stored \n",
    "out_file = open(\"trimmed.json\", \"w\")   \n",
    "json.dump({\"all_frame\": frame_lists}, out_file)  \n",
    "out_file.close() "
   ]
  },
  {
   "cell_type": "code",
   "execution_count": null,
   "metadata": {},
   "outputs": [],
   "source": []
  }
 ],
 "metadata": {
  "kernelspec": {
   "display_name": "Python 3",
   "language": "python",
   "name": "python3"
  },
  "language_info": {
   "codemirror_mode": {
    "name": "ipython",
    "version": 3
   },
   "file_extension": ".py",
   "mimetype": "text/x-python",
   "name": "python",
   "nbconvert_exporter": "python",
   "pygments_lexer": "ipython3",
   "version": "3.6.4"
  }
 },
 "nbformat": 4,
 "nbformat_minor": 2
}
